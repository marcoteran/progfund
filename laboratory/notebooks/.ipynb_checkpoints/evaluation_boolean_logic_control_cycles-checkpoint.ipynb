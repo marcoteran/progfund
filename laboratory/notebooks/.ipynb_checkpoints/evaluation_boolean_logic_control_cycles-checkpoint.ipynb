{
 "cells": [
  {
   "cell_type": "markdown",
   "id": "1e7059df",
   "metadata": {},
   "source": [
    "\n",
    "# Evaluación: Lógica Booleana y Control y Ciclos en Python\n",
    "## Fundamentos de Programación\n",
    "Esta evaluación contiene 7 problemas diseñados para evaluar la comprensión de los conceptos de lógica booleana y control y ciclos en Python. Los problemas son de nivel intermedio y están diseñados para complementar los temas vistos en las sesiones correspondientes.\n"
   ]
  },
  {
   "cell_type": "markdown",
   "id": "892be6fe",
   "metadata": {},
   "source": [
    "\n",
    "### Problema 1: Variables Booleanas y Operadores Lógicos\n",
    "Escriba una función `logical_operations` que tome tres parámetros booleanos `a`, `b`, y `c`, y retorne una tupla con los resultados de las siguientes operaciones lógicas:\n",
    "- `a` AND `b`\n",
    "- `a` OR `c`\n",
    "- NOT `a`\n",
    "- `b` XOR `c`\n",
    "\n",
    "**Ejemplo:**\n",
    "\n",
    "```python\n",
    "logical_operations(True, False, True)\n",
    "```\n",
    "\n",
    "**Salida:**\n",
    "\n",
    "```python\n",
    "(True, True, False, True)\n",
    "```\n"
   ]
  },
  {
   "cell_type": "markdown",
   "id": "f97603b2",
   "metadata": {},
   "source": [
    "\n",
    "### Problema 2: Operadores Relacionales\n",
    "Escriba una función `compare_numbers` que tome dos números `x` y `y`, y retorne una cadena describiendo su relación. La función debe retornar una de las siguientes cadenas:\n",
    "- `\"igual\"` si `x` es igual a `y`\n",
    "- `\"mayor\"` si `x` es mayor que `y`\n",
    "- `\"menor\"` si `x` es menor que `y`\n",
    "\n",
    "**Ejemplo:**\n",
    "\n",
    "```python\n",
    "compare_numbers(5, 3)\n",
    "```\n",
    "\n",
    "**Salida:**\n",
    "\n",
    "```python\n",
    "\"mayor\"\n",
    "```\n"
   ]
  },
  {
   "cell_type": "markdown",
   "id": "d1f9935a",
   "metadata": {},
   "source": [
    "\n",
    "### Problema 3: Condicionales Simples if-elif-else\n",
    "Escriba una función `classify_number` que tome un número entero `n`, y retorne una cadena describiendo su clasificación:\n",
    "- `\"positivo\"` si `n` es positivo\n",
    "- `\"negativo\"` si `n` es negativo\n",
    "- `\"cero\"` si `n` es cero\n",
    "\n",
    "**Ejemplo:**\n",
    "\n",
    "```python\n",
    "classify_number(-4)\n",
    "```\n",
    "\n",
    "**Salida:**\n",
    "\n",
    "```python\n",
    "\"negativo\"\n",
    "```\n"
   ]
  },
  {
   "cell_type": "markdown",
   "id": "28837945",
   "metadata": {},
   "source": [
    "\n",
    "### Problema 4: Ciclo for con range\n",
    "Escriba una función `sum_even_numbers` que tome un número entero `n`, y retorne la suma de todos los números pares desde 2 hasta `n` (incluyendo `n` si es par).\n",
    "\n",
    "**Ejemplo:**\n",
    "\n",
    "```python\n",
    "sum_even_numbers(8)\n",
    "```\n",
    "\n",
    "**Salida:**\n",
    "\n",
    "```python\n",
    "20\n",
    "```\n"
   ]
  },
  {
   "cell_type": "markdown",
   "id": "7bbc682e",
   "metadata": {},
   "source": [
    "\n",
    "### Problema 5: Ciclo while\n",
    "Escriba una función `count_down` que tome un número entero `n`, y retorne una lista con los números desde `n` hasta 1 en orden descendente utilizando un ciclo `while`.\n",
    "\n",
    "**Ejemplo:**\n",
    "\n",
    "```python\n",
    "count_down(5)\n",
    "```\n",
    "\n",
    "**Salida:**\n",
    "\n",
    "```python\n",
    "[5, 4, 3, 2, 1]\n",
    "```\n"
   ]
  },
  {
   "cell_type": "markdown",
   "id": "d7aec241",
   "metadata": {},
   "source": [
    "\n",
    "### Problema 6: Listas por Comprensión\n",
    "Escriba una función `squares_list` que tome un número entero `n`, y retorne una lista con los cuadrados de los números desde 1 hasta `n` utilizando comprensión de listas.\n",
    "\n",
    "**Ejemplo:**\n",
    "\n",
    "```python\n",
    "squares_list(4)\n",
    "```\n",
    "\n",
    "**Salida:**\n",
    "\n",
    "```python\n",
    "[1, 4, 9, 16]\n",
    "```\n"
   ]
  },
  {
   "cell_type": "markdown",
   "id": "b743f654",
   "metadata": {},
   "source": [
    "\n",
    "### Problema 7: Condicionales y Ciclos Anidados\n",
    "Escriba una función `pattern` que tome un número entero `n`, y retorne una lista de cadenas que represente el siguiente patrón:\n",
    "- La primera línea contiene `n` asteriscos.\n",
    "- La segunda línea contiene `n-1` asteriscos.\n",
    "- Continuar así hasta que la última línea contenga 1 asterisco.\n",
    "\n",
    "**Ejemplo:**\n",
    "\n",
    "```python\n",
    "pattern(3)\n",
    "```\n",
    "\n",
    "**Salida:**\n",
    "\n",
    "```python\n",
    "[\"***\", \"**\", \"*\"]\n",
    "```\n"
   ]
  }
 ],
 "metadata": {
  "kernelspec": {
   "display_name": "Python 3 (ipykernel)",
   "language": "python",
   "name": "python3"
  },
  "language_info": {
   "codemirror_mode": {
    "name": "ipython",
    "version": 3
   },
   "file_extension": ".py",
   "mimetype": "text/x-python",
   "name": "python",
   "nbconvert_exporter": "python",
   "pygments_lexer": "ipython3",
   "version": "3.10.9"
  }
 },
 "nbformat": 4,
 "nbformat_minor": 5
}
