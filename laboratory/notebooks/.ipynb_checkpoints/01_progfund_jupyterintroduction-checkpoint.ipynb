{
 "cells": [
  {
   "cell_type": "markdown",
   "metadata": {
    "colab_type": "text",
    "id": "4pXbl-J6Bkyd"
   },
   "source": [
    "### Ejemplos de código\n",
    "# Sesión 01: Introducción a Jupyter\n",
    "\n",
    "## Fundamentos de Programación"
   ]
  },
  {
   "cell_type": "markdown",
   "metadata": {},
   "source": [
    "**Name:** Marco Teran\n",
    "[Website](http://marcoteran.github.io/),\n",
    "[Github](https://github.com/marcoteran),\n",
    "[LinkedIn](https://www.linkedin.com/in/marcoteran/).\n",
    "___"
   ]
  },
  {
   "cell_type": "markdown",
   "metadata": {
    "colab_type": "text",
    "id": "EKf0LxjgBkye"
   },
   "source": [
    "## 1 - Código Python\n",
    "En su versión mas sencilla, cada una de las celdas se puede pensar como un **snippet (fragmento) de código que se puede ejecutar independientemente** de las demás.\n",
    "Para ejecutar la siguiente celda, selccionarla y apretar el boton <i class=\"fa-step-forward fa\"></i> ubicado en la barra superior, o equivalentemente, presionar <span style=\"border: solid 1px #aaa; padding: 2px; border-radius: 4px;\">Shift</span> + <span style=\"border: solid 1px #aaa; padding: 2px; border-radius: 4px;\">Enter</span>"
   ]
  },
  {
   "cell_type": "code",
   "execution_count": 1,
   "metadata": {
    "colab": {
     "autoexec": {
      "startup": false,
      "wait_interval": 0
     }
    },
    "colab_type": "code",
    "id": "zOOsn0ebBkye"
   },
   "outputs": [
    {
     "name": "stdout",
     "output_type": "stream",
     "text": [
      "Hola notebook!\n"
     ]
    }
   ],
   "source": [
    "print(\"¡Hola notebook!\")"
   ]
  },
  {
   "cell_type": "markdown",
   "metadata": {
    "colab_type": "text",
    "id": "hBQAy1VoBkyh"
   },
   "source": [
    "Se puede consultar una lista completa de todos los shortcuts (atajos) disponibles en el menu <span style=\"border: solid 1px #aaa; padding: 2px; border-radius: 4px;\">Help</span> <span style=\"border: solid 1px #aaa; padding: 2px; border-radius: 4px;\">Keyboard Shortcuts</span> o con la tecla <span style=\"border: solid 1px #aaa; padding: 2px; border-radius: 4px;\">H</span>\n",
    "<br>\n",
    "Shortcuts importantes:\n",
    "- Click para selccionar una celda\n",
    "- Teniendo seleccionada una celda, <span style=\"border: solid 1px #aaa; padding: 2px; border-radius: 4px;\">Enter</span> para pasar a **modo de edición** y <span style=\"border: solid 1px #aaa; padding: 2px; border-radius: 4px;\">Esc</span> para pasar a **modo ejecución**. Ambos modos pueden identificarse a simple vista por el color de su borde: **<span style=\"color: #66BB6a\">verde</span>** índica modo de edición y **<span style=\"color: #42A5F5\">azul</span>** modo de ejecución.\n",
    "- <span style=\"border: solid 1px #aaa; padding: 2px; border-radius: 4px;\">Shift</span> + <span style=\"border: solid 1px #aaa; padding: 2px; border-radius: 4px;\">Enter</span> para ejecutar una celda y seleccionar la celda siguiente"
   ]
  },
  {
   "cell_type": "markdown",
   "metadata": {
    "colab_type": "text",
    "id": "eGg3AR7XBkyi"
   },
   "source": [
    "Cada celda es independiente de las demás, pero **comparten el mismo contexto**. Definiciones de variables, funciones y clases, e importaciones de módulos dentro de una celda, permiten que las siguientes celdas tengan acceso a éstas."
   ]
  },
  {
   "cell_type": "code",
   "execution_count": null,
   "metadata": {
    "colab": {
     "autoexec": {
      "startup": false,
      "wait_interval": 0
     }
    },
    "colab_type": "code",
    "id": "gmhxJXoTBkyi"
   },
   "outputs": [],
   "source": [
    "import getpass\n",
    "# defino variable en una celda\n",
    "user = getpass.getuser()"
   ]
  },
  {
   "cell_type": "code",
   "execution_count": null,
   "metadata": {
    "colab": {
     "autoexec": {
      "startup": false,
      "wait_interval": 0
     }
    },
    "colab_type": "code",
    "id": "z-avy9sfBkyk"
   },
   "outputs": [],
   "source": [
    "# accedo a la variable definida en la celda anterior\n",
    "print (\"Hola {}!\".format(user))"
   ]
  },
  {
   "cell_type": "markdown",
   "metadata": {
    "colab_type": "text",
    "id": "DteZAxjABkym"
   },
   "source": [
    "Una diferencia notable con un script.py es que **no estamos obligados a ejecutar celdas en un orden preestablecido**. De todas maneras, es recomendable ordenar un notebook según el orden de lectura estandar para evitar confusiones."
   ]
  },
  {
   "cell_type": "code",
   "execution_count": null,
   "metadata": {
    "colab": {
     "autoexec": {
      "startup": false,
      "wait_interval": 0
     }
    },
    "colab_type": "code",
    "id": "Ai9LDGDOBkym"
   },
   "outputs": [],
   "source": [
    "print (variable_que_defino_despues)"
   ]
  },
  {
   "cell_type": "code",
   "execution_count": null,
   "metadata": {
    "colab": {
     "autoexec": {
      "startup": false,
      "wait_interval": 0
     }
    },
    "colab_type": "code",
    "id": "gc62PlSABkyo"
   },
   "outputs": [],
   "source": [
    "variable_que_defino_despues = 'aquí defino la variable'"
   ]
  },
  {
   "cell_type": "markdown",
   "metadata": {
    "colab_type": "text",
    "id": "0GKQ39eMBkyp"
   },
   "source": [
    "## 2 - Markdown\n",
    "El contenido de las celdas no está limitado a sólo código de Python. Una alternativa posible es **Markdown**, que es muy útil para explicar las ideas detrás de cada fragmento de código y para guiar al lector en la ejecución del notebook (como venimos haciendo hasta ahora).\n",
    "\n",
    "Incluso es posible insertar código html para insertar imágenes, audios, videos y todas las alternativas que esto provee. Esto es especialmente útil para visualizar información y generar gráficos con datos generados por los snippets de código del notebook.\n",
    "\n",
    "<img src=\"https://www.python.org/static/community_logos/python-logo-master-v3-TM.png\">"
   ]
  },
  {
   "cell_type": "markdown",
   "metadata": {
    "colab_type": "text",
    "id": "oQzHAAgCBkyq"
   },
   "source": [
    "Ejemplos Markdown:\n",
    "# Título 1\n",
    "## Título 2\n",
    "### Título 3\n",
    "\n",
    "**Nota:** Texto normal. Este es un enlace: [Python](https://www.python.org/).\n",
    "\n",
    "**Texto en negrita**\n",
    "\n",
    "Viñetas:\n",
    "\n",
    "* Nivel 1\n",
    "    * Nivel 2\n",
    "    * Nivel 2\n",
    "        * Nivel 3\n"
   ]
  },
  {
   "cell_type": "markdown",
   "metadata": {
    "colab_type": "text",
    "id": "6ySC1c8lBkyr"
   },
   "source": [
    "Referencia Markdown: http://commonmark.org/help/ "
   ]
  },
  {
   "cell_type": "markdown",
   "metadata": {
    "colab_type": "text",
    "id": "hPFP9r0FBkyr"
   },
   "source": [
    "Teniendo una celda selccionada en modo de ejecución (borde azul), puede declararse su modo de interpretación apretando:\n",
    "- <span style=\"border: solid 1px #aaa; padding: 2px; border-radius: 4px;\">Y</span> para interpretar la celda en modo código\n",
    "- <span style=\"border: solid 1px #aaa; padding: 2px; border-radius: 4px; display: inline-block; margin: 5px 0;\">M</span> para modo markdown\n",
    "- <span style=\"border: solid 1px #aaa; padding: 2px; border-radius: 4px;\">R</span> para no interpretar el contenido de la celda\n",
    "\n",
    "En modo Markdown está habilitada la interpretación de código html, con algunas excepciones por temas de seguridad y consistencia del notebook (ej: interpretación de <span style=\"color:#BA2121\">&lt;script&gt;</span>, <span style=\"color:#BA2121\">&lt;style&gt;</span> y atributos relacionados). "
   ]
  },
  {
   "cell_type": "markdown",
   "metadata": {
    "colab_type": "text",
    "id": "501VjnUHBkys"
   },
   "source": [
    "## 3 - Integración con bash\n",
    "\n",
    "De forma nativa jupyter tiene integración con comandos de bash. Estos son reconocidos mediante el prefijo <span style=\"border: solid 1px #aaa; padding: 2px; border-radius: 4px;\">!</span>. Por ejemplo, si quisiera ver qué versión de python estoy ejecutando:"
   ]
  },
  {
   "cell_type": "code",
   "execution_count": null,
   "metadata": {
    "colab": {
     "autoexec": {
      "startup": false,
      "wait_interval": 0
     }
    },
    "colab_type": "code",
    "id": "ndvnrMiaBkys"
   },
   "outputs": [],
   "source": [
    "!python --version"
   ]
  },
  {
   "cell_type": "markdown",
   "metadata": {
    "colab_type": "text",
    "id": "fpCQg2XTBkyv"
   },
   "source": [
    "Nótese que la celda anterior es interpretada como una celda de código al igual que las celdas que contienen código python. Esto permite que dentro de una celda conviva código de python y de bash sin problemas. \n",
    "\n",
    "Para ejemplificar esto, usemos el comando **ls** en UNIX (**dir** en Windows) que lista los archivos de la carpeta actual:"
   ]
  },
  {
   "cell_type": "code",
   "execution_count": null,
   "metadata": {
    "colab": {
     "autoexec": {
      "startup": false,
      "wait_interval": 0
     }
    },
    "colab_type": "code",
    "id": "_AMCVHLOBkyw"
   },
   "outputs": [],
   "source": [
    "files_in_this_folder = !dir\n",
    "for filename in files_in_this_folder:\n",
    "    if filename[-6:] == '.ipynb':\n",
    "        print (filename)"
   ]
  },
  {
   "cell_type": "markdown",
   "metadata": {
    "colab_type": "text",
    "id": "eDlYoh8TBkyy"
   },
   "source": [
    "## 4 - Jupyter Magic\n",
    "\n",
    "Extendiendo la capacidad de jupyter de interpretar Python, Bash y Markdown, existen comandos especiales que son parte de la *magia de jupyter*. Estos comandos empiezan con <span style=\"border: solid 1px #aaa; padding: 2px; border-radius: 4px;\">%</span> - para evaluaciones en una sola línea - y con <span style=\"border: solid 1px #aaa; padding: 2px; border-radius: 4px;\">%%</span> para evaluaciones multilínea. Un ejemplo de esto es la posibilidad de insertar html excediendo las capacidad de Markdown y tener la posibilidad de insertar scripts de javascript:"
   ]
  },
  {
   "cell_type": "code",
   "execution_count": null,
   "metadata": {
    "colab": {
     "autoexec": {
      "startup": false,
      "wait_interval": 0
     }
    },
    "colab_type": "code",
    "id": "TGeFiOE5Bkyy"
   },
   "outputs": [],
   "source": [
    "%%html\n",
    "<button id=\"click-button\">Click</button>\n",
    "<span id=\"click-counter\">No has hecho click todavía.</span>\n",
    "<script>\n",
    "    $(function() {\n",
    "        var click_counter = 0;\n",
    "        $('#click-button').click(function() {\n",
    "            click_counter += 1;\n",
    "            var message = 'Número de veces que has hecho click: ' + click_counter + (click_counter == 1 ? ' vez' : ' veces')\n",
    "            $('#click-counter').text(message)\n",
    "        })\n",
    "    })\n",
    "</script>"
   ]
  },
  {
   "cell_type": "markdown",
   "metadata": {
    "colab_type": "text",
    "id": "M12WyDC7Bky1"
   },
   "source": [
    "Para listar por completo todas las magias con las que viene jupyter, existe el comando <span style=\"border: solid 1px #aaa; padding: 2px; border-radius: 4px;\">% lsmagic</span>"
   ]
  },
  {
   "cell_type": "code",
   "execution_count": null,
   "metadata": {
    "colab": {
     "autoexec": {
      "startup": false,
      "wait_interval": 0
     }
    },
    "colab_type": "code",
    "id": "nnsuavSvBky1"
   },
   "outputs": [],
   "source": [
    "% lsmagic"
   ]
  },
  {
   "cell_type": "markdown",
   "metadata": {
    "colab_type": "text",
    "id": "A0dQeXGsBky3"
   },
   "source": [
    "## 5 - Servidor remoto\n",
    "\n",
    "La principal interfaz de Jupyter involucra un navegador para proveer la interfaz al usuario, pero la ejecución de código se realiza del lado del servidor. Esto permite que, habiendo hecho las configuraciones pertinentes, el usuario acceda de forma remota al servidor. Por ejemplo, en la necesidad de procesar una gran cantidad de información, se puede dejar corriendo un servidor de jupyter en un computador con mejores recursos de hardware y acceder a éste desde cualquier computador que cuente con un navegador y una conexión a internet.\n",
    "\n",
    "Para mas información, leer la [documentación oficial de jupyter](http://jupyter-notebook.readthedocs.io/en/latest/public_server.html) sobre este tema"
   ]
  },
  {
   "cell_type": "markdown",
   "metadata": {
    "colab_type": "text",
    "id": "u-1SBh-_Bky3"
   },
   "source": [
    "## 6 - Extensiones de la comunidad\n",
    "\n",
    "Con la rápida adopción y la creciente comunidad de usuarios de Jupyter, han aparecido una gran cantidad de extensiones que le agregan funcionalidades. Éstas se encuentran en el [repositorio de extensiones](https://github.com/ipython-contrib/jupyter_contrib_nbextensions) de Jupyter.\n",
    "\n",
    "Las extensiones disponibles ofrecen un amplio rango de funcionalidades agregadas. Desde correctores ortográficos hasta generadores automaticos de tablas de contenidos."
   ]
  }
 ],
 "metadata": {
  "colab": {
   "default_view": {},
   "name": "0 - Introducción a Jupyter.ipynb",
   "provenance": [],
   "version": "0.3.2",
   "views": {}
  },
  "kernelspec": {
   "display_name": "Python 3 (ipykernel)",
   "language": "python",
   "name": "python3"
  },
  "language_info": {
   "codemirror_mode": {
    "name": "ipython",
    "version": 3
   },
   "file_extension": ".py",
   "mimetype": "text/x-python",
   "name": "python",
   "nbconvert_exporter": "python",
   "pygments_lexer": "ipython3",
   "version": "3.10.9"
  }
 },
 "nbformat": 4,
 "nbformat_minor": 1
}
